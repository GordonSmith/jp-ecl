{
 "cells": [
  {
   "cell_type": "code",
   "execution_count": 3,
   "metadata": {},
   "outputs": [
    {
     "name": "stdout",
     "output_type": "stream",
     "text": [
      "Result 1:  [\n",
      "  {\n",
      "    \"personid\": 1,\n",
      "    \"firstname\": \"Fred           \",\n",
      "    \"lastname\": \"Smith                    \"\n",
      "  },\n",
      "  {\n",
      "    \"personid\": 2,\n",
      "    \"firstname\": \"Joe            \",\n",
      "    \"lastname\": \"Blow                     \"\n",
      "  },\n",
      "  {\n",
      "    \"personid\": 3,\n",
      "    \"firstname\": \"Jane           \",\n",
      "    \"lastname\": \"Smith                    \"\n",
      "  }\n",
      "]\n",
      "Result 2:  [\n",
      "  {\n",
      "    \"personid\": 1,\n",
      "    \"firstname\": \"Fred           \",\n",
      "    \"lastname\": \"Smith                    \"\n",
      "  },\n",
      "  {\n",
      "    \"personid\": 3,\n",
      "    \"firstname\": \"Jane           \",\n",
      "    \"lastname\": \"Smith                    \"\n",
      "  }\n",
      "]\n"
     ]
    }
   ],
   "source": [
    "/*\n",
    "    Example code - use without restriction.  \n",
    "*/\n",
    "Layout_Person := RECORD\n",
    "  UNSIGNED1 PersonID;\n",
    "  STRING15  FirstName;\n",
    "  STRING25  LastName;\n",
    "END;\n",
    "\n",
    "allPeople := DATASET([ {1,'Fred','Smith'},\n",
    "                       {2,'Joe','Blow'},\n",
    "                       {3,'Jane','Smith'}],Layout_Person);\n",
    "\n",
    "somePeople := allPeople(LastName = 'Smith');\n",
    "\n",
    "//  Outputs  ---\n",
    "allPeople;\n",
    "somePeople;\n"
   ]
  },
  {
   "cell_type": "code",
   "execution_count": null,
   "metadata": {},
   "outputs": [],
   "source": []
  }
 ],
 "metadata": {
  "kernelspec": {
   "display_name": "jp-ecl (HPCC Systems)",
   "language": "ecl",
   "name": "ecl"
  },
  "language_info": {
   "file_extension": ".js",
   "mimetype": "application/javascript",
   "name": "javascript",
   "version": "14.13.0"
  }
 },
 "nbformat": 4,
 "nbformat_minor": 4
}
